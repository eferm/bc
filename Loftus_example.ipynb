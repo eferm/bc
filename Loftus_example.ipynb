{
 "metadata": {
  "name": "Loftus_example"
 },
 "nbformat": 3,
 "nbformat_minor": 0,
 "worksheets": [
  {
   "cells": [
    {
     "cell_type": "markdown",
     "metadata": {},
     "source": [
      "#Putting it all together\n",
      "\n",
      "## Taking off with Loftus ...\n",
      "\n",
      "(From Abdi, Edelman, Valentin & Dowling, 2009; Williams, Krishnan, & Abdi, 2009)\n",
      "\n",
      "-------------\n",
      "\n",
      "In the 1970s Elizabeth Loftus (Loftus and Palmer, 1974) conducted a series of experiments on the theme of eyewitness testimony. They wanted to find out whether the wording of a question affected the later responses of witnesses. To do this she showed subjects a film of a car accident. Following the film, she asked them a series of questions. Among the questions was one of 5 versions of a critical question concerning the speed the vehicles were travelling in miles per hour. Here are the 5 versions of the question along with the experimental condition in which they occurred:\n",
      "\n",
      "* HIT: About how fast were the cars going when they _hit_ each other?\n",
      "\n",
      "* SMASH: About how fast were the cars going when they _smashed into_ each other?\n",
      "\n",
      "* COLLIDE: About how fast were the cars going when they _collided with_ each other?\n",
      "\n",
      "* BUMP: About how fast were the cars going when they _bumped_ each other?\n",
      "\n",
      "* CONTACT: About how fast were the cars going when they _contacted_ each other?\n",
      "\n",
      "\n",
      "Software Carpentry conducted a (ficticious) replication of the study in an online survey. The results are in the file loftus.csv. \n",
      "\n",
      "We want to be able to answer the question: _Does the wording of the question affect witnesses' estimation of the speed the vehicles were traveling?_"
     ]
    },
    {
     "cell_type": "markdown",
     "metadata": {},
     "source": [
      "----------------------\n",
      "\n",
      "### Before we begin\n",
      "\n",
      "Download and install the `statsmodels 0.5` module. First clone the repository from `github`  from `git clone git://github.com/statsmodels/statsmodels.git`. You will also need to install `patsy`.  Using `pip` enter `pip install patsy` at the command line. Everything else should have come with your installation of `Anaconda`. Following the installation of `patsy`, navigate to the directory where you put the statsmodels repository. Once there, type `python setup.py build` and finally `python setup.py install`.\n",
      "\n",
      "The `statsmodels` module has many useful statistical features that will benefit your work. The latest release allows you to build statistical models using R-like syntax, but with the readability of python. Documentation is available from http://statsmodels.sourceforge.net/."
     ]
    },
    {
     "cell_type": "markdown",
     "metadata": {},
     "source": [
      "### Step 1: Import the .csv file\n"
     ]
    },
    {
     "cell_type": "code",
     "collapsed": false,
     "input": [
      "datafile = open('loftus.csv', 'rU')\n",
      "data = []\n",
      "for row in datafile:\n",
      "    data.append(row.strip().split(','))\n",
      "datafile.close()"
     ],
     "language": "python",
     "metadata": {},
     "outputs": [],
     "prompt_number": 1
    },
    {
     "cell_type": "markdown",
     "metadata": {},
     "source": [
      "####Step 1a: Turn this bit of code into a function"
     ]
    },
    {
     "cell_type": "markdown",
     "metadata": {},
     "source": [
      "Remember to document your code and call your function something memorable so you will remember what you have done later. "
     ]
    },
    {
     "cell_type": "code",
     "collapsed": false,
     "input": [
      "def open_csv_file(filename):\n",
      "    '''(str) -> str\n",
      "    \n",
      "    open_csv_file opens a csv file called filename and \n",
      "    returns the information in the datafile in python \n",
      "    readable format\n",
      "    \n",
      "    example:\n",
      "    open_csv_file('loftus.csv')\n",
      "    '''\n",
      "    \n",
      "    # Open the datafile\n",
      "    datafile = open(filename, 'rU')\n",
      "    # Initialize an empty array\n",
      "    data = []\n",
      "    # Create data array\n",
      "    for row in datafile:\n",
      "        data.append(row.strip().split(','))\n",
      "    datafile.close()\n",
      "    return data\n",
      "\n",
      "data = open_csv_file('loftus.csv')"
     ],
     "language": "python",
     "metadata": {},
     "outputs": [],
     "prompt_number": 2
    },
    {
     "cell_type": "markdown",
     "metadata": {},
     "source": [
      "### Step 2: Get header row\n",
      "If you know that the data file has a header row, you can update your function to get the header row"
     ]
    },
    {
     "cell_type": "code",
     "collapsed": false,
     "input": [
      "def open_csv_file(filename):\n",
      "    '''(str) -> str\n",
      "    \n",
      "    open_csv_file opens a csv file called filename and \n",
      "    returns the information in the datafile in python \n",
      "    readable format. Note that the first row is ALWAYS\n",
      "    considered to be a header row!\n",
      "    \n",
      "    example:\n",
      "    open_csv_file('loftus.csv')\n",
      "    '''\n",
      "    \n",
      "    # Open the datafile\n",
      "    datafile = open(filename, 'rU')\n",
      "    # Initialize an empty array\n",
      "    data = []\n",
      "    # define counter start number\n",
      "    rownum = 0\n",
      "    for row in datafile:\n",
      "        if rownum == 0:\n",
      "            # Create header\n",
      "            header = row\n",
      "        else:\n",
      "            # Create data array\n",
      "            data.append(row.strip().split(','))\n",
      "        rownum += 1\n",
      "    datafile.close()\n",
      "    return data, header"
     ],
     "language": "python",
     "metadata": {},
     "outputs": [],
     "prompt_number": 3
    },
    {
     "cell_type": "markdown",
     "metadata": {},
     "source": [
      "But this gets dangerous when we want to reuse our code because a lot of the time (unless it is our own data) you don't know if the data has a header row\n",
      "\n",
      "**Import the `csv` module** . \n",
      "\n",
      "To save processing time, import your modules at the beginning of your .py file.  Here we are importing them as we need them for explanation purposes only.\n",
      "\n"
     ]
    },
    {
     "cell_type": "code",
     "collapsed": false,
     "input": [
      "import csv"
     ],
     "language": "python",
     "metadata": {},
     "outputs": [],
     "prompt_number": 4
    },
    {
     "cell_type": "markdown",
     "metadata": {},
     "source": [
      "The `has_header` method of the `Sniffer` class of the `csv` module returns `True` if the first line of the data is likely to be a header row. \n",
      "\n",
      "#### Let's update our function to get the header row."
     ]
    },
    {
     "cell_type": "code",
     "collapsed": false,
     "input": [
      "def open_csv_file(filename):\n",
      "    '''(str) -> str\n",
      "    \n",
      "    open_csv_file opens a csv file called filename and \n",
      "    returns the information in the datafile in python \n",
      "    readable format. It uses the csv module to determine\n",
      "    whether or not there is a row of column headers\n",
      "    \n",
      "    example:\n",
      "    open_csv_file('loftus.csv')\n",
      "    '''\n",
      "    \n",
      "    # Open the datafile\n",
      "    datafile = open(filename, 'rU')\n",
      "    # Find out whether there is a header row\n",
      "    hasheader = csv.Sniffer().has_header(datafile.read(1024))\n",
      "    datafile.seek(0)\n",
      "    \n",
      "    data = []\n",
      "    header = []\n",
      "    rownum = 0\n",
      "    if hasheader == True:\n",
      "        for row in datafile:\n",
      "            if rownum == 0:\n",
      "                header = row.strip().split(',')\n",
      "                print 'Data file has a header row:' \n",
      "                print header\n",
      "            else:\n",
      "                data.append(row.strip().split(','))\n",
      "            rownum += 1\n",
      "    else:\n",
      "        for row in datafile:\n",
      "            if rownum == 0:\n",
      "                print 'Data file does not have a header row'\n",
      "            data.append(row.strip().split(','))\n",
      "            rownum += 1\n",
      "    datafile.close()\n",
      "    return(data, header)\n",
      "\n",
      "\n",
      "data, header = open_csv_file('loftus.csv')"
     ],
     "language": "python",
     "metadata": {},
     "outputs": [
      {
       "output_type": "stream",
       "stream": "stdout",
       "text": [
        "Data file has a header row:\n",
        "['Participant', 'Condition Name', 'Condition Number', 'Age', 'IQ', 'Estimated Speed (mph)', 'Reaction Time (ms)']\n"
       ]
      }
     ],
     "prompt_number": 5
    },
    {
     "cell_type": "markdown",
     "metadata": {},
     "source": [
      "Now check that the output of the function makes sense. "
     ]
    },
    {
     "cell_type": "code",
     "collapsed": false,
     "input": [
      "header"
     ],
     "language": "python",
     "metadata": {},
     "outputs": [
      {
       "output_type": "pyout",
       "prompt_number": 6,
       "text": [
        "['Participant',\n",
        " 'Condition Name',\n",
        " 'Condition Number',\n",
        " 'Age',\n",
        " 'IQ',\n",
        " 'Estimated Speed (mph)',\n",
        " 'Reaction Time (ms)']"
       ]
      }
     ],
     "prompt_number": 6
    },
    {
     "cell_type": "code",
     "collapsed": false,
     "input": [
      "data[0:10]"
     ],
     "language": "python",
     "metadata": {},
     "outputs": [
      {
       "output_type": "pyout",
       "prompt_number": 7,
       "text": [
        "[['1', 'Contact', '1', '38', '79', '35.34309684', '366.3496022'],\n",
        " ['2', 'Contact', '1', '60', '115', '33.17929371', '103.3719955'],\n",
        " ['3', 'Contact', '1', '55', '99', '45.32379901', '117.1909298'],\n",
        " ['4', 'Contact', '1', '37', '86', '42.66942264', '121.062926'],\n",
        " ['5', 'Contact', '1', '26', '96', '24.3133367', '300.7980271'],\n",
        " ['6', 'Contact', '1', '35', '100', '20.01894596', '353.0088051'],\n",
        " ['7', 'Contact', '1', '49', '117', '29.69251209', '228.1920257'],\n",
        " ['8', 'Contact', '1', '41', '114', '27.38630052', '254.788998'],\n",
        " ['9', 'Contact', '1', '53', '104', '27.50141729', '636.4364611'],\n",
        " ['10', 'Contact', '1', '56', '88', '39.48336299', '216.9692579']]"
       ]
      }
     ],
     "prompt_number": 7
    },
    {
     "cell_type": "markdown",
     "metadata": {},
     "source": [
      "It looks like the `csv` module got it correct.  "
     ]
    },
    {
     "cell_type": "markdown",
     "metadata": {},
     "source": [
      "### Step 3: Examine your data set.\n",
      "#### What type of data do we have after import?\n",
      "First, the header:"
     ]
    },
    {
     "cell_type": "code",
     "collapsed": false,
     "input": [
      "type(header)"
     ],
     "language": "python",
     "metadata": {},
     "outputs": [
      {
       "output_type": "pyout",
       "prompt_number": 8,
       "text": [
        "list"
       ]
      }
     ],
     "prompt_number": 8
    },
    {
     "cell_type": "markdown",
     "metadata": {},
     "source": [
      "Now the data:"
     ]
    },
    {
     "cell_type": "code",
     "collapsed": false,
     "input": [
      "type(data)"
     ],
     "language": "python",
     "metadata": {},
     "outputs": [
      {
       "output_type": "pyout",
       "prompt_number": 9,
       "text": [
        "list"
       ]
      }
     ],
     "prompt_number": 9
    },
    {
     "cell_type": "markdown",
     "metadata": {},
     "source": [
      "#### What are the variables in your data set?\n",
      "First, let's get the number of list elements in the `header` list"
     ]
    },
    {
     "cell_type": "code",
     "collapsed": false,
     "input": [
      "len(header)"
     ],
     "language": "python",
     "metadata": {},
     "outputs": [
      {
       "output_type": "pyout",
       "prompt_number": 10,
       "text": [
        "7"
       ]
      }
     ],
     "prompt_number": 10
    },
    {
     "cell_type": "markdown",
     "metadata": {},
     "source": [
      "Now let's do the same for `data`.\n",
      "First, let's see how many observations are in the list"
     ]
    },
    {
     "cell_type": "code",
     "collapsed": false,
     "input": [
      "len(data)"
     ],
     "language": "python",
     "metadata": {},
     "outputs": [
      {
       "output_type": "pyout",
       "prompt_number": 11,
       "text": [
        "25000"
       ]
      }
     ],
     "prompt_number": 11
    },
    {
     "cell_type": "markdown",
     "metadata": {},
     "source": [
      "Now let's check that each list element has a list with 7 elements in it (to go with our headers). We might want to do this again, so let's write this as a function"
     ]
    },
    {
     "cell_type": "code",
     "collapsed": false,
     "input": [
      "def elements_in_row(data,header):\n",
      "    '''(list) -> str\n",
      "\n",
      "       Elements in row \n",
      "\n",
      "    '''\n",
      "    h = len(header)\n",
      "    rownum = 0\n",
      "    for row in data:\n",
      "        r = len(row)\n",
      "        if r != h:\n",
      "            print 'Row ' + str(rownum) + ' does not have ' + str(h) + ' elements.'\n",
      "            print row \n",
      "        rownum += 1\n",
      "    return 'All done! All rows have ' + str(h) + ' elements.'\n",
      "    \n",
      "elements_in_row(data,header)"
     ],
     "language": "python",
     "metadata": {},
     "outputs": [
      {
       "output_type": "pyout",
       "prompt_number": 12,
       "text": [
        "'All done! All rows have 7 elements.'"
       ]
      }
     ],
     "prompt_number": 12
    },
    {
     "cell_type": "markdown",
     "metadata": {},
     "source": [
      "#### Find the columns associated with each of the variables of interest.\n",
      "\n",
      "We want to look at the estimated speed and condition type. First, let's extract the column indices."
     ]
    },
    {
     "cell_type": "code",
     "collapsed": false,
     "input": [
      "colspeed = header.index('Estimated Speed (mph)')\n",
      "print colspeed\n"
     ],
     "language": "python",
     "metadata": {},
     "outputs": [
      {
       "output_type": "stream",
       "stream": "stdout",
       "text": [
        "5\n"
       ]
      }
     ],
     "prompt_number": 13
    },
    {
     "cell_type": "code",
     "collapsed": false,
     "input": [
      "colcondname = header.index('Condition Name')\n",
      "print colcondname"
     ],
     "language": "python",
     "metadata": {},
     "outputs": [
      {
       "output_type": "stream",
       "stream": "stdout",
       "text": [
        "1\n"
       ]
      }
     ],
     "prompt_number": 14
    },
    {
     "cell_type": "markdown",
     "metadata": {},
     "source": [
      "#### Now, extract the data for the estimated speed and the condition name."
     ]
    },
    {
     "cell_type": "code",
     "collapsed": false,
     "input": [
      "speed = [x[colspeed] for x in data]\n",
      "print speed[0:10]"
     ],
     "language": "python",
     "metadata": {},
     "outputs": [
      {
       "output_type": "stream",
       "stream": "stdout",
       "text": [
        "['35.34309684', '33.17929371', '45.32379901', '42.66942264', '24.3133367', '20.01894596', '29.69251209', '27.38630052', '27.50141729', '39.48336299']\n"
       ]
      }
     ],
     "prompt_number": 15
    },
    {
     "cell_type": "code",
     "collapsed": false,
     "input": [
      "condname = [x[colcondname] for x in data]\n",
      "print condname[0:10]"
     ],
     "language": "python",
     "metadata": {},
     "outputs": [
      {
       "output_type": "stream",
       "stream": "stdout",
       "text": [
        "['Contact', 'Contact', 'Contact', 'Contact', 'Contact', 'Contact', 'Contact', 'Contact', 'Contact', 'Contact']\n"
       ]
      }
     ],
     "prompt_number": 16
    },
    {
     "cell_type": "markdown",
     "metadata": {},
     "source": [
      "#### Now let's see how many conditions we have and what the conditions are.\n",
      "\n",
      "##### First, we need to get the unique conditions. \n",
      "\n",
      "The `set` function will give you a set of unique names. To turn this set back into a list, use the `list` function."
     ]
    },
    {
     "cell_type": "code",
     "collapsed": false,
     "input": [
      "def get_condition_names(condname):\n",
      "    ''' list(str) -> list(str)\n",
      "    \n",
      "    get_condition_names takes a list of strings and returns \n",
      "    a list of the unique strings contained within the \n",
      "    original list.\n",
      "\n",
      "    >>> get_condition_names(condname)\n",
      "    ['Smash', 'Hit', 'Bump', 'Collide', 'Contact', 'Sash']\n",
      "    '''\n",
      "    conditions = list(set(condname))\n",
      "    return conditions\n",
      "\n",
      "conditions = get_condition_names(condname)\n",
      "print conditions"
     ],
     "language": "python",
     "metadata": {},
     "outputs": [
      {
       "output_type": "stream",
       "stream": "stdout",
       "text": [
        "['Smash', 'Hit', 'Bump', 'Collide', 'Contact', 'Sash']\n"
       ]
      }
     ],
     "prompt_number": 17
    },
    {
     "cell_type": "markdown",
     "metadata": {},
     "source": [
      "And now we can use `len` to get the number of different conditions."
     ]
    },
    {
     "cell_type": "code",
     "collapsed": false,
     "input": [
      "ncond = len(conditions)\n",
      "print ncond"
     ],
     "language": "python",
     "metadata": {},
     "outputs": [
      {
       "output_type": "stream",
       "stream": "stdout",
       "text": [
        "6\n"
       ]
      }
     ],
     "prompt_number": 18
    },
    {
     "cell_type": "markdown",
     "metadata": {},
     "source": [
      "Not so good. We have a listing for 6 conditions, when we really have 5. \n",
      "\n",
      "* HIT: About how fast were the cars going when they _hit_ each other?\n",
      "\n",
      "* SMASH: About how fast were the cars going when they _smashed into_ each other?\n",
      "\n",
      "* COLLIDE: About how fast were the cars going when they _collided with_ each other?\n",
      "\n",
      "* BUMP: About how fast were the cars going when they _bumped_ each other?\n",
      "\n",
      "* CONTACT: About how fast were the cars going when they _contacted_ each other?\n",
      "\n",
      "It looks like somebody mistyped the label for the `Smash` condition. We need to fix this before we go on.\n"
     ]
    },
    {
     "cell_type": "markdown",
     "metadata": {},
     "source": [
      "We need to check whether our hypothesis is correct. Let's count the number of instances of each condition."
     ]
    },
    {
     "cell_type": "code",
     "collapsed": false,
     "input": [
      "def count_observations_in_condition(condname):\n",
      "    ''' list(str) list(str) -> int\n",
      "\n",
      "    count_observations_in condition takes a list of unique strings and \n",
      "    returns the number of observations per string\n",
      "\n",
      "    Requires:\n",
      "    get_condition_names\n",
      "\n",
      "    Example:\n",
      "    >>> count_observations_in_condition(condname):\n",
      "    Smash   5000\n",
      "    Hit     5000\n",
      "    Bump\t5000\n",
      "    Collide 5000\n",
      "    Contact 5000\n",
      "    '''\n",
      "    conditions = get_condition_names(condname)\n",
      "    idx = 0\n",
      "    indices = []\n",
      "    for cond in conditions:\n",
      "        indices.append([i for i, x in enumerate(condname) if x == cond])\n",
      "        print cond + '\\t' + str(len(indices[idx]))\n",
      "        idx += 1\n",
      "    \n",
      "count_observations_in_condition(condname)"
     ],
     "language": "python",
     "metadata": {},
     "outputs": [
      {
       "output_type": "stream",
       "stream": "stdout",
       "text": [
        "Smash\t4998\n",
        "Hit\t5000\n",
        "Bump\t5000\n",
        "Collide\t5000\n",
        "Contact\t5000\n",
        "Sash\t2\n"
       ]
      }
     ],
     "prompt_number": 19
    },
    {
     "cell_type": "markdown",
     "metadata": {},
     "source": [
      "It looks like we were correct.  Let's replace the elements `Sash` with `Smash`. \n",
      "\n",
      "In this case it is fairly easy because we have a balanced design, but watch out if you don't have an equal number of observations in each condition. "
     ]
    },
    {
     "cell_type": "code",
     "collapsed": false,
     "input": [
      "def change_condition_name(Incorrect_Name,Correct_Name,Vector_of_Conditions):\n",
      "    for idx, item in enumerate(Vector_of_Conditions):\n",
      "        if item == Incorrect_Name:\n",
      "            Vector_of_Conditions[idx] = Correct_Name\n",
      "            print \"Element \" + str(idx) + \" (\" + str(item) + \") replaced with \" + Correct_Name \n",
      "    return Vector_of_Conditions\n",
      "\n",
      "condname = change_condition_name('Sash','Smash',condname)"
     ],
     "language": "python",
     "metadata": {},
     "outputs": [
      {
       "output_type": "stream",
       "stream": "stdout",
       "text": [
        "Element 20261 (Sash) replaced with Smash\n",
        "Element 20282 (Sash) replaced with Smash\n"
       ]
      }
     ],
     "prompt_number": 20
    },
    {
     "cell_type": "markdown",
     "metadata": {},
     "source": [
      "And let's check our numbers again."
     ]
    },
    {
     "cell_type": "code",
     "collapsed": false,
     "input": [
      "count_observations_in_condition(condname)"
     ],
     "language": "python",
     "metadata": {},
     "outputs": [
      {
       "output_type": "stream",
       "stream": "stdout",
       "text": [
        "Bump\t5000\n",
        "Smash\t5000\n",
        "Contact\t5000\n",
        "Hit\t5000\n",
        "Collide\t5000\n"
       ]
      }
     ],
     "prompt_number": 21
    },
    {
     "cell_type": "markdown",
     "metadata": {},
     "source": [
      "##### Now let's check that the data in the variable `Estimated speed (mph)` are entered correctly.\n",
      "\n",
      "Let's check the type of the variable `speed`."
     ]
    },
    {
     "cell_type": "code",
     "collapsed": false,
     "input": [
      "type(speed)"
     ],
     "language": "python",
     "metadata": {},
     "outputs": [
      {
       "output_type": "pyout",
       "prompt_number": 22,
       "text": [
        "list"
       ]
      }
     ],
     "prompt_number": 22
    },
    {
     "cell_type": "markdown",
     "metadata": {},
     "source": [
      "Now the elements:"
     ]
    },
    {
     "cell_type": "code",
     "collapsed": false,
     "input": [
      "def get_type_elements(variable):\n",
      "    count = 0\n",
      "    format = []\n",
      "    for item in variable:\n",
      "        format.append(type(variable[count]))\n",
      "        count += 1\n",
      "    print list(set(format))\n",
      "\n",
      "get_type_elements(speed)"
     ],
     "language": "python",
     "metadata": {},
     "outputs": [
      {
       "output_type": "stream",
       "stream": "stdout",
       "text": [
        "[<type 'str'>]\n"
       ]
      }
     ],
     "prompt_number": 23
    },
    {
     "cell_type": "markdown",
     "metadata": {},
     "source": [
      "Oops. The data is in the wrong format. We need a list of numbers, not strings. We'll use floating point numbers to accomodate any observations that have decimal points in them. You could check this too, if you wanted."
     ]
    },
    {
     "cell_type": "code",
     "collapsed": false,
     "input": [
      "def change_data_format_to_float(variable):\n",
      "    count = 0\n",
      "    variablefloat=[]\n",
      "    for item in variable:\n",
      "        variablefloat.append(float(variable[count]))\n",
      "        count += 1\n",
      "    return variablefloat\n",
      "\n",
      "speedfloat = change_data_format_to_float(speed)\n",
      "get_type_elements(speedfloat)"
     ],
     "language": "python",
     "metadata": {},
     "outputs": [
      {
       "output_type": "stream",
       "stream": "stdout",
       "text": [
        "[<type 'float'>]\n"
       ]
      }
     ],
     "prompt_number": 24
    },
    {
     "cell_type": "markdown",
     "metadata": {},
     "source": [
      "#### To make our life easier, let's create a dictionary to associate values and condition names"
     ]
    },
    {
     "cell_type": "code",
     "collapsed": false,
     "input": [
      "def create_dictionary(condname):\n",
      "    datadict = dict()\n",
      "    count = 0\n",
      "    \n",
      "    for name in condname:\n",
      "        if name in datadict:\n",
      "            # append the new number to the existing array at this slot\n",
      "            datadict[name].append(speedfloat[count])\n",
      "        else:\n",
      "            # create a new array in this slot            \n",
      "            datadict[name] = [speedfloat[count]]\n",
      "        count += 1\n",
      "    return datadict\n",
      "\n",
      "datadict = create_dictionary(condname)"
     ],
     "language": "python",
     "metadata": {},
     "outputs": [],
     "prompt_number": 25
    },
    {
     "cell_type": "markdown",
     "metadata": {},
     "source": [
      "#### Now we can reformat the data to use with the `pandas` and `scipy` modules for statistical analysis.\n",
      "\n",
      "First, let's import the modules we will need"
     ]
    },
    {
     "cell_type": "code",
     "collapsed": false,
     "input": [
      "import pandas as pd\n",
      "import numpy as np\n",
      "from scipy import stats\n",
      "from patsy import dmatrices"
     ],
     "language": "python",
     "metadata": {},
     "outputs": [],
     "prompt_number": 26
    },
    {
     "cell_type": "markdown",
     "metadata": {},
     "source": [
      "Now, we can turn our dictionary into a `pandas` dataframe."
     ]
    },
    {
     "cell_type": "code",
     "collapsed": false,
     "input": [
      "df = pd.DataFrame(datadict)\n",
      "print df"
     ],
     "language": "python",
     "metadata": {},
     "outputs": [
      {
       "output_type": "stream",
       "stream": "stdout",
       "text": [
        "<class 'pandas.core.frame.DataFrame'>\n",
        "Int64Index: 5000 entries, 0 to 4999\n",
        "Data columns (total 5 columns):\n",
        "Bump       5000  non-null values\n",
        "Collide    5000  non-null values\n",
        "Contact    5000  non-null values\n",
        "Hit        5000  non-null values\n",
        "Smash      5000  non-null values\n",
        "dtypes: float64(5)\n"
       ]
      }
     ],
     "prompt_number": 27
    },
    {
     "cell_type": "markdown",
     "metadata": {},
     "source": [
      "#### Let's take a look at the dataframe\n",
      "\n",
      "We can call the system head and tail functions to do this"
     ]
    },
    {
     "cell_type": "code",
     "collapsed": false,
     "input": [
      "print df.head()"
     ],
     "language": "python",
     "metadata": {},
     "outputs": [
      {
       "output_type": "stream",
       "stream": "stdout",
       "text": [
        "     Bump  Collide    Contact     Hit   Smash\n",
        "0  45.601   43.872  35.343097  18.298  40.810\n",
        "1  45.452   35.219  33.179294  46.845  48.751\n",
        "2  42.071   30.035  45.323799  12.501  49.430\n",
        "3  30.303   46.574  42.669423  32.120  51.688\n",
        "4  27.146   40.785  24.313337  39.203  57.690\n"
       ]
      }
     ],
     "prompt_number": 28
    },
    {
     "cell_type": "code",
     "collapsed": false,
     "input": [
      "print df.tail()"
     ],
     "language": "python",
     "metadata": {},
     "outputs": [
      {
       "output_type": "stream",
       "stream": "stdout",
       "text": [
        "        Bump  Collide  Contact     Hit   Smash\n",
        "4995  23.902   43.902   27.352  23.896  42.378\n",
        "4996  44.808   44.686   27.962  26.561  46.275\n",
        "4997  58.433   39.162   42.062  35.872  35.883\n",
        "4998  47.236   31.987   23.697  24.000  47.574\n",
        "4999  31.359   49.443   23.715  34.286  48.763\n"
       ]
      }
     ],
     "prompt_number": 29
    },
    {
     "cell_type": "markdown",
     "metadata": {},
     "source": [
      "#### Now it's time for some descriptive statistics.\n",
      "We can look at each type of descriptive statistic separately:"
     ]
    },
    {
     "cell_type": "code",
     "collapsed": false,
     "input": [
      "condmean = df.mean()\n",
      "print condmean"
     ],
     "language": "python",
     "metadata": {},
     "outputs": [
      {
       "output_type": "stream",
       "stream": "stdout",
       "text": [
        "Bump       37.999997\n",
        "Collide    41.000002\n",
        "Contact    29.999999\n",
        "Hit        34.999997\n",
        "Smash      46.000005\n",
        "dtype: float64\n"
       ]
      }
     ],
     "prompt_number": 30
    },
    {
     "cell_type": "code",
     "collapsed": false,
     "input": [
      "condvar = df.var()\n",
      "print condvar"
     ],
     "language": "python",
     "metadata": {},
     "outputs": [
      {
       "output_type": "stream",
       "stream": "stdout",
       "text": [
        "Bump       122.222092\n",
        "Collide     41.555552\n",
        "Contact    116.444323\n",
        "Hit         86.444395\n",
        "Smash       33.333344\n",
        "dtype: float64\n"
       ]
      }
     ],
     "prompt_number": 31
    },
    {
     "cell_type": "code",
     "collapsed": false,
     "input": [
      "condstd = df.std()\n",
      "print condstd"
     ],
     "language": "python",
     "metadata": {},
     "outputs": [
      {
       "output_type": "stream",
       "stream": "stdout",
       "text": [
        "Bump       11.055410\n",
        "Collide     6.446360\n",
        "Contact    10.790937\n",
        "Hit         9.297548\n",
        "Smash       5.773504\n",
        "dtype: float64\n"
       ]
      }
     ],
     "prompt_number": 32
    },
    {
     "cell_type": "markdown",
     "metadata": {},
     "source": [
      "Or, we can get them all together:"
     ]
    },
    {
     "cell_type": "code",
     "collapsed": false,
     "input": [
      "descriptives = df.describe()\n",
      "print descriptives"
     ],
     "language": "python",
     "metadata": {},
     "outputs": [
      {
       "output_type": "stream",
       "stream": "stdout",
       "text": [
        "              Bump      Collide      Contact          Hit        Smash\n",
        "count  5000.000000  5000.000000  5000.000000  5000.000000  5000.000000\n",
        "mean     37.999997    41.000002    29.999999    34.999997    46.000005\n",
        "std      11.055410     6.446360    10.790937     9.297548     5.773504\n",
        "min       0.954110    19.711000    -7.928400     2.039300    24.962000\n",
        "25%      30.680000    36.764250    22.807250    28.776750    42.158250\n",
        "50%      38.002000    41.076500    30.086527    35.003500    46.083500\n",
        "75%      45.564250    45.309250    37.378500    41.291750    49.801000\n",
        "max      75.173000    61.102000    66.337000    68.553000    66.631000\n"
       ]
      }
     ],
     "prompt_number": 33
    },
    {
     "cell_type": "markdown",
     "metadata": {},
     "source": [
      "Maybe a negative speed means the estimated speed was in reverse? Check with whoever gave you the data to be sure. In our case, it means the car was travelling in reverse.\n",
      "\n",
      "\n",
      "#### Now we can plot our data\n",
      "First, import `pylab` (this allows us to view our figures in the ipython notebook)"
     ]
    },
    {
     "cell_type": "code",
     "collapsed": false,
     "input": [
      "%pylab inline \n",
      "\n",
      "from pylab import *"
     ],
     "language": "python",
     "metadata": {},
     "outputs": [
      {
       "output_type": "stream",
       "stream": "stdout",
       "text": [
        "\n",
        "Welcome to pylab, a matplotlib-based Python environment [backend: module://IPython.zmq.pylab.backend_inline].\n",
        "For more information, type 'help(pylab)'.\n"
       ]
      }
     ],
     "prompt_number": 34
    },
    {
     "cell_type": "markdown",
     "metadata": {},
     "source": [
      "Now, let's plot our means"
     ]
    },
    {
     "cell_type": "code",
     "collapsed": false,
     "input": [
      "df.mean().plot(kind='bar')"
     ],
     "language": "python",
     "metadata": {},
     "outputs": [
      {
       "output_type": "pyout",
       "prompt_number": 35,
       "text": [
        "<matplotlib.axes.AxesSubplot at 0x107a88b90>"
       ]
      },
      {
       "output_type": "display_data",
       "png": "[encoded data removed]"
      }
     ],
     "prompt_number": 35
    },
    {
     "cell_type": "markdown",
     "metadata": {},
     "source": [
      "and take a look at the boxplot"
     ]
    },
    {
     "cell_type": "code",
     "collapsed": false,
     "input": [
      "plt.figure();\n",
      "bp = df.boxplot()"
     ],
     "language": "python",
     "metadata": {},
     "outputs": [
      {
       "output_type": "display_data",
       "png": "[encoded data removed]"
      }
     ],
     "prompt_number": 36
    },
    {
     "cell_type": "markdown",
     "metadata": {},
     "source": [
      "#### Now, let's run an ANOVA\n",
      "\n",
      "I like to have the full data output, so we will use the functions built into the `statsmodels` module. "
     ]
    },
    {
     "cell_type": "code",
     "collapsed": false,
     "input": [
      "#import statsmodels.api as sm\n",
      "import statsmodels.formula.api as sm\n",
      "from statsmodels.stats.anova import anova_lm\n",
      "import statsmodels.sandbox as sand\n",
      "from statsmodels.stats.multicomp import (pairwise_tukeyhsd,\n",
      "                                         MultiComparison)\n"
     ],
     "language": "python",
     "metadata": {},
     "outputs": [],
     "prompt_number": 37
    },
    {
     "cell_type": "markdown",
     "metadata": {},
     "source": [
      "Although the format of `df` is great for getting descriptive statistics, we need a different format for running the ANOVA (corresponding vectors of data)."
     ]
    },
    {
     "cell_type": "code",
     "collapsed": false,
     "input": [
      "df_long = pd.DataFrame(zip(condname,speedfloat), columns=['condname', 'speed'])\n",
      "df_long.head()"
     ],
     "language": "python",
     "metadata": {},
     "outputs": [
      {
       "html": [
        "<div style=\"max-height:1000px;max-width:1500px;overflow:auto;\">\n",
        "<table border=\"1\" class=\"dataframe\">\n",
        "  <thead>\n",
        "    <tr style=\"text-align: right;\">\n",
        "      <th></th>\n",
        "      <th>condname</th>\n",
        "      <th>speed</th>\n",
        "    </tr>\n",
        "  </thead>\n",
        "  <tbody>\n",
        "    <tr>\n",
        "      <th>0</th>\n",
        "      <td> Contact</td>\n",
        "      <td> 35.343097</td>\n",
        "    </tr>\n",
        "    <tr>\n",
        "      <th>1</th>\n",
        "      <td> Contact</td>\n",
        "      <td> 33.179294</td>\n",
        "    </tr>\n",
        "    <tr>\n",
        "      <th>2</th>\n",
        "      <td> Contact</td>\n",
        "      <td> 45.323799</td>\n",
        "    </tr>\n",
        "    <tr>\n",
        "      <th>3</th>\n",
        "      <td> Contact</td>\n",
        "      <td> 42.669423</td>\n",
        "    </tr>\n",
        "    <tr>\n",
        "      <th>4</th>\n",
        "      <td> Contact</td>\n",
        "      <td> 24.313337</td>\n",
        "    </tr>\n",
        "  </tbody>\n",
        "</table>\n",
        "</div>"
       ],
       "output_type": "pyout",
       "prompt_number": 38,
       "text": [
        "  condname      speed\n",
        "0  Contact  35.343097\n",
        "1  Contact  33.179294\n",
        "2  Contact  45.323799\n",
        "3  Contact  42.669423\n",
        "4  Contact  24.313337"
       ]
      }
     ],
     "prompt_number": 38
    },
    {
     "cell_type": "code",
     "collapsed": false,
     "input": [
      "df_long.tail()"
     ],
     "language": "python",
     "metadata": {},
     "outputs": [
      {
       "html": [
        "<div style=\"max-height:1000px;max-width:1500px;overflow:auto;\">\n",
        "<table border=\"1\" class=\"dataframe\">\n",
        "  <thead>\n",
        "    <tr style=\"text-align: right;\">\n",
        "      <th></th>\n",
        "      <th>condname</th>\n",
        "      <th>speed</th>\n",
        "    </tr>\n",
        "  </thead>\n",
        "  <tbody>\n",
        "    <tr>\n",
        "      <th>24995</th>\n",
        "      <td> Smash</td>\n",
        "      <td> 42.378</td>\n",
        "    </tr>\n",
        "    <tr>\n",
        "      <th>24996</th>\n",
        "      <td> Smash</td>\n",
        "      <td> 46.275</td>\n",
        "    </tr>\n",
        "    <tr>\n",
        "      <th>24997</th>\n",
        "      <td> Smash</td>\n",
        "      <td> 35.883</td>\n",
        "    </tr>\n",
        "    <tr>\n",
        "      <th>24998</th>\n",
        "      <td> Smash</td>\n",
        "      <td> 47.574</td>\n",
        "    </tr>\n",
        "    <tr>\n",
        "      <th>24999</th>\n",
        "      <td> Smash</td>\n",
        "      <td> 48.763</td>\n",
        "    </tr>\n",
        "  </tbody>\n",
        "</table>\n",
        "</div>"
       ],
       "output_type": "pyout",
       "prompt_number": 39,
       "text": [
        "      condname   speed\n",
        "24995    Smash  42.378\n",
        "24996    Smash  46.275\n",
        "24997    Smash  35.883\n",
        "24998    Smash  47.574\n",
        "24999    Smash  48.763"
       ]
      }
     ],
     "prompt_number": 39
    },
    {
     "cell_type": "markdown",
     "metadata": {},
     "source": [
      "Now to actually run the ANOVA.  Just as a reminder (for those whose stats are a bit rusty) the an ANOVA is just a special case of OLS regression, so we will run the regression model here. "
     ]
    },
    {
     "cell_type": "markdown",
     "metadata": {},
     "source": [
      "And now we check our variables again"
     ]
    },
    {
     "cell_type": "markdown",
     "metadata": {},
     "source": [
      "Let's set up the model:"
     ]
    },
    {
     "cell_type": "code",
     "collapsed": false,
     "input": [
      "model = sm.ols('speed ~ C(condname)',df_long)"
     ],
     "language": "python",
     "metadata": {},
     "outputs": [],
     "prompt_number": 40
    },
    {
     "cell_type": "markdown",
     "metadata": {},
     "source": [
      "where, `speed` is the dependent variable, `C()` means that `condname` is a categorical variable, and `condname` is the independent variable."
     ]
    },
    {
     "cell_type": "markdown",
     "metadata": {},
     "source": [
      "Now, we can run the analysis."
     ]
    },
    {
     "cell_type": "code",
     "collapsed": false,
     "input": [
      "result = model.fit()"
     ],
     "language": "python",
     "metadata": {},
     "outputs": [],
     "prompt_number": 41
    },
    {
     "cell_type": "code",
     "collapsed": false,
     "input": [
      "print result.summary()"
     ],
     "language": "python",
     "metadata": {},
     "outputs": [
      {
       "output_type": "stream",
       "stream": "stdout",
       "text": [
        "                            OLS Regression Results                            \n",
        "==============================================================================\n",
        "Dep. Variable:                  speed   R-squared:                       0.267\n",
        "Model:                            OLS   Adj. R-squared:                  0.267\n",
        "Method:                 Least Squares   F-statistic:                     2281.\n",
        "Date:                Thu, 05 Sep 2013   Prob (F-statistic):               0.00\n",
        "Time:                        11:42:59   Log-Likelihood:                -90246.\n",
        "No. Observations:               25000   AIC:                         1.805e+05\n",
        "Df Residuals:                   24995   BIC:                         1.805e+05\n",
        "Df Model:                           4                                         \n",
        "==========================================================================================\n",
        "                             coef    std err          t      P>|t|      [95.0% Conf. Int.]\n",
        "------------------------------------------------------------------------------------------\n",
        "Intercept                 38.0000      0.126    300.416      0.000        37.752    38.248\n",
        "C(condname)[T.Collide]     3.0000      0.179     16.771      0.000         2.649     3.351\n",
        "C(condname)[T.Contact]    -8.0000      0.179    -44.721      0.000        -8.351    -7.649\n",
        "C(condname)[T.Hit]        -3.0000      0.179    -16.771      0.000        -3.351    -2.649\n",
        "C(condname)[T.Smash]       8.0000      0.179     44.721      0.000         7.649     8.351\n",
        "==============================================================================\n",
        "Omnibus:                      210.373   Durbin-Watson:                   2.008\n",
        "Prob(Omnibus):                  0.000   Jarque-Bera (JB):              337.430\n",
        "Skew:                          -0.025   Prob(JB):                     5.35e-74\n",
        "Kurtosis:                       3.567   Cond. No.                         5.83\n",
        "==============================================================================\n"
       ]
      }
     ],
     "prompt_number": 42
    },
    {
     "cell_type": "markdown",
     "metadata": {},
     "source": [
      "Note that the `result` object has many useful attributes. For example, we can extract parameter estimates and r-squared"
     ]
    },
    {
     "cell_type": "code",
     "collapsed": false,
     "input": [
      "result.params"
     ],
     "language": "python",
     "metadata": {},
     "outputs": [
      {
       "output_type": "pyout",
       "prompt_number": 43,
       "text": [
        "Intercept                 37.999997\n",
        "C(condname)[T.Collide]     3.000004\n",
        "C(condname)[T.Contact]    -7.999999\n",
        "C(condname)[T.Hit]        -3.000000\n",
        "C(condname)[T.Smash]       8.000008\n",
        "dtype: float64"
       ]
      }
     ],
     "prompt_number": 43
    },
    {
     "cell_type": "code",
     "collapsed": false,
     "input": [
      "result.rsquared"
     ],
     "language": "python",
     "metadata": {},
     "outputs": [
      {
       "output_type": "pyout",
       "prompt_number": 44,
       "text": [
        "0.26743877202192234"
       ]
      }
     ],
     "prompt_number": 44
    },
    {
     "cell_type": "markdown",
     "metadata": {},
     "source": [
      "To present the results as a traditional ANOVA table"
     ]
    },
    {
     "cell_type": "code",
     "collapsed": false,
     "input": [
      "anova_lm(result)"
     ],
     "language": "python",
     "metadata": {},
     "outputs": [
      {
       "html": [
        "<div style=\"max-height:1000px;max-width:1500px;overflow:auto;\">\n",
        "<table border=\"1\" class=\"dataframe\">\n",
        "  <thead>\n",
        "    <tr style=\"text-align: right;\">\n",
        "      <th></th>\n",
        "      <th>df</th>\n",
        "      <th>sum_sq</th>\n",
        "      <th>mean_sq</th>\n",
        "      <th>F</th>\n",
        "      <th>PR(&gt;F)</th>\n",
        "    </tr>\n",
        "  </thead>\n",
        "  <tbody>\n",
        "    <tr>\n",
        "      <th>C(condname)</th>\n",
        "      <td>     4</td>\n",
        "      <td>  730000.652181</td>\n",
        "      <td> 182500.163045</td>\n",
        "      <td> 2281.25372</td>\n",
        "      <td>  0</td>\n",
        "    </tr>\n",
        "    <tr>\n",
        "      <th>Residual</th>\n",
        "      <td> 24995</td>\n",
        "      <td> 1999598.525461</td>\n",
        "      <td>     79.999941</td>\n",
        "      <td>        NaN</td>\n",
        "      <td>NaN</td>\n",
        "    </tr>\n",
        "  </tbody>\n",
        "</table>\n",
        "</div>"
       ],
       "output_type": "pyout",
       "prompt_number": 45,
       "text": [
        "                df          sum_sq        mean_sq           F  PR(>F)\n",
        "C(condname)      4   730000.652181  182500.163045  2281.25372       0\n",
        "Residual     24995  1999598.525461      79.999941         NaN     NaN"
       ]
      }
     ],
     "prompt_number": 45
    },
    {
     "cell_type": "markdown",
     "metadata": {},
     "source": [
      "Now to run the post-hocs."
     ]
    },
    {
     "cell_type": "code",
     "collapsed": false,
     "input": [
      "conditions = pd.Categorical.from_array(df_long['condname'])\n",
      "print conditions"
     ],
     "language": "python",
     "metadata": {},
     "outputs": [
      {
       "output_type": "stream",
       "stream": "stdout",
       "text": [
        "Categorical: condname\n",
        "array(['Contact', 'Contact', 'Contact', ..., 'Smash', 'Smash', 'Smash'], dtype=object)\n",
        "Levels (5): Index(['Bump', 'Collide', 'Contact', 'Hit', 'Smash'], dtype=object)\n"
       ]
      }
     ],
     "prompt_number": 46
    },
    {
     "cell_type": "code",
     "collapsed": false,
     "input": [
      "print conditions.levels"
     ],
     "language": "python",
     "metadata": {},
     "outputs": [
      {
       "output_type": "stream",
       "stream": "stdout",
       "text": [
        "Index([Bump, Collide, Contact, Hit, Smash], dtype=object)\n"
       ]
      }
     ],
     "prompt_number": 47
    },
    {
     "cell_type": "code",
     "collapsed": false,
     "input": [
      "res2 = pairwise_tukeyhsd(df_long['speed'], df_long['condname'])\n",
      "print res2"
     ],
     "language": "python",
     "metadata": {},
     "outputs": [
      {
       "output_type": "stream",
       "stream": "stdout",
       "text": [
        "Multiple Comparison of Means - Tukey HSD,FWER=0.05\n",
        "=============================================\n",
        "group1 group2 meandiff  lower   upper  reject\n",
        "---------------------------------------------\n",
        "  0      1      3.0     2.512   3.488   True \n",
        "  0      2      -8.0    -8.488  -7.512  True \n",
        "  0      3      -3.0    -3.488  -2.512  True \n",
        "  0      4      8.0     7.512   8.488   True \n",
        "  1      2     -11.0   -11.488 -10.512  True \n",
        "  1      3      -6.0    -6.488  -5.512  True \n",
        "  1      4      5.0     4.512   5.488   True \n",
        "  2      3      5.0     4.512   5.488   True \n",
        "  2      4      16.0    15.512  16.488  True \n",
        "  3      4      11.0    10.512  11.488  True \n",
        "---------------------------------------------\n"
       ]
      }
     ],
     "prompt_number": 48
    },
    {
     "cell_type": "code",
     "collapsed": false,
     "input": [
      "mc = MultiComparison(df_long['speed'],df_long['condname'])"
     ],
     "language": "python",
     "metadata": {},
     "outputs": [],
     "prompt_number": 49
    },
    {
     "cell_type": "code",
     "collapsed": false,
     "input": [
      "posthoc = mc.tukeyhsd()\n",
      "print posthoc.summary() \n",
      "print zip(list((conditions.levels)), range(5))"
     ],
     "language": "python",
     "metadata": {},
     "outputs": [
      {
       "output_type": "stream",
       "stream": "stdout",
       "text": [
        "Multiple Comparison of Means - Tukey HSD,FWER=0.05\n",
        "=============================================\n",
        "group1 group2 meandiff  lower   upper  reject\n",
        "---------------------------------------------\n",
        "  0      1      3.0     2.512   3.488   True \n",
        "  0      2      -8.0    -8.488  -7.512  True \n",
        "  0      3      -3.0    -3.488  -2.512  True \n",
        "  0      4      8.0     7.512   8.488   True \n",
        "  1      2     -11.0   -11.488 -10.512  True \n",
        "  1      3      -6.0    -6.488  -5.512  True \n",
        "  1      4      5.0     4.512   5.488   True \n",
        "  2      3      5.0     4.512   5.488   True \n",
        "  2      4      16.0    15.512  16.488  True \n",
        "  3      4      11.0    10.512  11.488  True \n",
        "---------------------------------------------\n",
        "[('Bump', 0), ('Collide', 1), ('Contact', 2), ('Hit', 3), ('Smash', 4)]\n"
       ]
      }
     ],
     "prompt_number": 50
    },
    {
     "cell_type": "markdown",
     "metadata": {},
     "source": [
      "### So, does the wording of a question matter when eyewitnesses give testimony?\n",
      "\n",
      "YES!"
     ]
    },
    {
     "cell_type": "code",
     "collapsed": false,
     "input": [],
     "language": "python",
     "metadata": {},
     "outputs": [],
     "prompt_number": 50
    }
   ],
   "metadata": {}
  }
 ]
}